{
 "cells": [
  {
   "cell_type": "markdown",
   "metadata": {},
   "source": [
    "# Tratamento de Dados \n",
    "### Fonte: https://www.portaltransparencia.gov.br/beneficios/auxilio-emergencial?de=01/02/2022&ate=28/02/2022&tipoBeneficio=6&ordenarPor=beneficiario&direcao=asc\n",
    "\n",
    "### Auxílio Emergêncial do Fevereiro de 2022\n",
    "-----------------------------------------------------------------------------------------------------------------------------------------------------------------"
   ]
  },
  {
   "cell_type": "markdown",
   "metadata": {},
   "source": [
    "# Importando Bibliotecas"
   ]
  },
  {
   "cell_type": "code",
   "execution_count": 1,
   "metadata": {},
   "outputs": [],
   "source": [
    "import matplotlib.pyplot as plt\n",
    "import pandas as pd\n",
    "import numpy as np"
   ]
  },
  {
   "cell_type": "markdown",
   "metadata": {},
   "source": [
    "# Importando DataFrame"
   ]
  },
  {
   "cell_type": "code",
   "execution_count": 2,
   "metadata": {},
   "outputs": [],
   "source": [
    "df = pd.read_csv('emergencial.csv', sep=';', encoding='UTF-8') # importando o CSV"
   ]
  },
  {
   "cell_type": "code",
   "execution_count": 3,
   "metadata": {},
   "outputs": [
    {
     "data": {
      "text/html": [
       "<div>\n",
       "<style scoped>\n",
       "    .dataframe tbody tr th:only-of-type {\n",
       "        vertical-align: middle;\n",
       "    }\n",
       "\n",
       "    .dataframe tbody tr th {\n",
       "        vertical-align: top;\n",
       "    }\n",
       "\n",
       "    .dataframe thead th {\n",
       "        text-align: right;\n",
       "    }\n",
       "</style>\n",
       "<table border=\"1\" class=\"dataframe\">\n",
       "  <thead>\n",
       "    <tr style=\"text-align: right;\">\n",
       "      <th></th>\n",
       "      <th>CPF Beneficiário</th>\n",
       "      <th>NIS Beneficiário</th>\n",
       "      <th>Beneficiário</th>\n",
       "      <th>Observação</th>\n",
       "      <th>Valor Disponibilizado</th>\n",
       "      <th>Unnamed: 5</th>\n",
       "    </tr>\n",
       "  </thead>\n",
       "  <tbody>\n",
       "    <tr>\n",
       "      <th>0</th>\n",
       "      <td>***.947.052-**</td>\n",
       "      <td>1.242.386.421-5</td>\n",
       "      <td>ABMAEL RODRIGUES DE ARAUJO</td>\n",
       "      <td>Não há</td>\n",
       "      <td>900,00</td>\n",
       "      <td>NaN</td>\n",
       "    </tr>\n",
       "    <tr>\n",
       "      <th>1</th>\n",
       "      <td>***.338.245-**</td>\n",
       "      <td>1.238.500.118-9</td>\n",
       "      <td>ACACIA MARIA SANTIAGO SANTOS</td>\n",
       "      <td>NaN</td>\n",
       "      <td>6.000,00</td>\n",
       "      <td>NaN</td>\n",
       "    </tr>\n",
       "    <tr>\n",
       "      <th>2</th>\n",
       "      <td>***.097.505-**</td>\n",
       "      <td>NaN</td>\n",
       "      <td>ADAILMA OLIVEIRA DE ALMEIDA</td>\n",
       "      <td>Não há</td>\n",
       "      <td>4.200,00</td>\n",
       "      <td>NaN</td>\n",
       "    </tr>\n",
       "    <tr>\n",
       "      <th>3</th>\n",
       "      <td>***.884.115-**</td>\n",
       "      <td>NaN</td>\n",
       "      <td>ADAILSON EVANGELIO DE OLIVEIRA</td>\n",
       "      <td>Não há</td>\n",
       "      <td>1.200,00</td>\n",
       "      <td>NaN</td>\n",
       "    </tr>\n",
       "    <tr>\n",
       "      <th>4</th>\n",
       "      <td>***.082.562-**</td>\n",
       "      <td>NaN</td>\n",
       "      <td>ADAILTON BRAGA NASCIMENTO</td>\n",
       "      <td>Não há</td>\n",
       "      <td>4.200,00</td>\n",
       "      <td>NaN</td>\n",
       "    </tr>\n",
       "  </tbody>\n",
       "</table>\n",
       "</div>"
      ],
      "text/plain": [
       "  CPF Beneficiário NIS Beneficiário                    Beneficiário  \\\n",
       "0   ***.947.052-**  1.242.386.421-5      ABMAEL RODRIGUES DE ARAUJO   \n",
       "1   ***.338.245-**  1.238.500.118-9    ACACIA MARIA SANTIAGO SANTOS   \n",
       "2   ***.097.505-**              NaN     ADAILMA OLIVEIRA DE ALMEIDA   \n",
       "3   ***.884.115-**              NaN  ADAILSON EVANGELIO DE OLIVEIRA   \n",
       "4   ***.082.562-**              NaN       ADAILTON BRAGA NASCIMENTO   \n",
       "\n",
       "  Observação Valor Disponibilizado  Unnamed: 5  \n",
       "0     Não há                900,00         NaN  \n",
       "1        NaN              6.000,00         NaN  \n",
       "2     Não há              4.200,00         NaN  \n",
       "3     Não há              1.200,00         NaN  \n",
       "4     Não há              4.200,00         NaN  "
      ]
     },
     "execution_count": 3,
     "metadata": {},
     "output_type": "execute_result"
    }
   ],
   "source": [
    "df.head()  # Leitura das 5 primeiras linhas"
   ]
  },
  {
   "cell_type": "markdown",
   "metadata": {},
   "source": [
    "# Limpeza dos Dados"
   ]
  },
  {
   "cell_type": "code",
   "execution_count": 4,
   "metadata": {},
   "outputs": [],
   "source": [
    "df.columns=['CPF_BENEFICIARIO','NIS_BENEFICIARIO', 'BENEFICIARIO', 'OBS','VALOR', 'A']   # renomeando as colunas"
   ]
  },
  {
   "cell_type": "code",
   "execution_count": 5,
   "metadata": {},
   "outputs": [],
   "source": [
    "df = df.drop(columns=['A']) # dropando a coluna lixo"
   ]
  },
  {
   "cell_type": "code",
   "execution_count": 6,
   "metadata": {},
   "outputs": [
    {
     "data": {
      "text/html": [
       "<div>\n",
       "<style scoped>\n",
       "    .dataframe tbody tr th:only-of-type {\n",
       "        vertical-align: middle;\n",
       "    }\n",
       "\n",
       "    .dataframe tbody tr th {\n",
       "        vertical-align: top;\n",
       "    }\n",
       "\n",
       "    .dataframe thead th {\n",
       "        text-align: right;\n",
       "    }\n",
       "</style>\n",
       "<table border=\"1\" class=\"dataframe\">\n",
       "  <thead>\n",
       "    <tr style=\"text-align: right;\">\n",
       "      <th></th>\n",
       "      <th>CPF_BENEFICIARIO</th>\n",
       "      <th>NIS_BENEFICIARIO</th>\n",
       "      <th>BENEFICIARIO</th>\n",
       "      <th>OBS</th>\n",
       "      <th>VALOR</th>\n",
       "    </tr>\n",
       "  </thead>\n",
       "  <tbody>\n",
       "    <tr>\n",
       "      <th>0</th>\n",
       "      <td>***.947.052-**</td>\n",
       "      <td>1.242.386.421-5</td>\n",
       "      <td>ABMAEL RODRIGUES DE ARAUJO</td>\n",
       "      <td>Não há</td>\n",
       "      <td>900,00</td>\n",
       "    </tr>\n",
       "    <tr>\n",
       "      <th>1</th>\n",
       "      <td>***.338.245-**</td>\n",
       "      <td>1.238.500.118-9</td>\n",
       "      <td>ACACIA MARIA SANTIAGO SANTOS</td>\n",
       "      <td>NaN</td>\n",
       "      <td>6.000,00</td>\n",
       "    </tr>\n",
       "    <tr>\n",
       "      <th>2</th>\n",
       "      <td>***.097.505-**</td>\n",
       "      <td>NaN</td>\n",
       "      <td>ADAILMA OLIVEIRA DE ALMEIDA</td>\n",
       "      <td>Não há</td>\n",
       "      <td>4.200,00</td>\n",
       "    </tr>\n",
       "    <tr>\n",
       "      <th>3</th>\n",
       "      <td>***.884.115-**</td>\n",
       "      <td>NaN</td>\n",
       "      <td>ADAILSON EVANGELIO DE OLIVEIRA</td>\n",
       "      <td>Não há</td>\n",
       "      <td>1.200,00</td>\n",
       "    </tr>\n",
       "    <tr>\n",
       "      <th>4</th>\n",
       "      <td>***.082.562-**</td>\n",
       "      <td>NaN</td>\n",
       "      <td>ADAILTON BRAGA NASCIMENTO</td>\n",
       "      <td>Não há</td>\n",
       "      <td>4.200,00</td>\n",
       "    </tr>\n",
       "  </tbody>\n",
       "</table>\n",
       "</div>"
      ],
      "text/plain": [
       "  CPF_BENEFICIARIO NIS_BENEFICIARIO                    BENEFICIARIO     OBS  \\\n",
       "0   ***.947.052-**  1.242.386.421-5      ABMAEL RODRIGUES DE ARAUJO  Não há   \n",
       "1   ***.338.245-**  1.238.500.118-9    ACACIA MARIA SANTIAGO SANTOS     NaN   \n",
       "2   ***.097.505-**              NaN     ADAILMA OLIVEIRA DE ALMEIDA  Não há   \n",
       "3   ***.884.115-**              NaN  ADAILSON EVANGELIO DE OLIVEIRA  Não há   \n",
       "4   ***.082.562-**              NaN       ADAILTON BRAGA NASCIMENTO  Não há   \n",
       "\n",
       "      VALOR  \n",
       "0    900,00  \n",
       "1  6.000,00  \n",
       "2  4.200,00  \n",
       "3  1.200,00  \n",
       "4  4.200,00  "
      ]
     },
     "execution_count": 6,
     "metadata": {},
     "output_type": "execute_result"
    }
   ],
   "source": [
    "df.head() #Leitura das 5 primeiras linhas"
   ]
  },
  {
   "cell_type": "code",
   "execution_count": 7,
   "metadata": {},
   "outputs": [
    {
     "data": {
      "text/plain": [
       "CPF_BENEFICIARIO       1\n",
       "NIS_BENEFICIARIO    1262\n",
       "BENEFICIARIO           0\n",
       "OBS                  540\n",
       "VALOR                  0\n",
       "dtype: int64"
      ]
     },
     "execution_count": 7,
     "metadata": {},
     "output_type": "execute_result"
    }
   ],
   "source": [
    "df.isnull().sum()   #verificando linhas em branco"
   ]
  },
  {
   "cell_type": "code",
   "execution_count": 8,
   "metadata": {},
   "outputs": [],
   "source": [
    "df.loc[df.CPF_BENEFICIARIO.isnull(),'CPF_BENEFICIARIO'] = 'SEM CPF'\n",
    "df.loc[df.NIS_BENEFICIARIO.isnull(),'NIS_BENEFICIARIO'] = 'NÃO INFORMADO'       #Substituindo valores nan\n",
    "df.loc[df.OBS.isnull(),'OBS'] = 'Não há'"
   ]
  },
  {
   "cell_type": "code",
   "execution_count": 9,
   "metadata": {},
   "outputs": [
    {
     "data": {
      "text/plain": [
       "CPF_BENEFICIARIO    0\n",
       "NIS_BENEFICIARIO    0\n",
       "BENEFICIARIO        0\n",
       "OBS                 0\n",
       "VALOR               0\n",
       "dtype: int64"
      ]
     },
     "execution_count": 9,
     "metadata": {},
     "output_type": "execute_result"
    }
   ],
   "source": [
    "df.isnull().sum()  # Confirmando que não ficou com valores em branco"
   ]
  },
  {
   "cell_type": "code",
   "execution_count": 10,
   "metadata": {},
   "outputs": [
    {
     "name": "stdout",
     "output_type": "stream",
     "text": [
      "<class 'pandas.core.frame.DataFrame'>\n",
      "RangeIndex: 2138 entries, 0 to 2137\n",
      "Data columns (total 5 columns):\n",
      " #   Column            Non-Null Count  Dtype \n",
      "---  ------            --------------  ----- \n",
      " 0   CPF_BENEFICIARIO  2138 non-null   object\n",
      " 1   NIS_BENEFICIARIO  2138 non-null   object\n",
      " 2   BENEFICIARIO      2138 non-null   object\n",
      " 3   OBS               2138 non-null   object\n",
      " 4   VALOR             2138 non-null   object\n",
      "dtypes: object(5)\n",
      "memory usage: 83.6+ KB\n"
     ]
    }
   ],
   "source": [
    "df.info()     # Verificando os types das Colunas"
   ]
  },
  {
   "cell_type": "code",
   "execution_count": 11,
   "metadata": {},
   "outputs": [],
   "source": [
    "df['VALOR'] = df['VALOR'].str.replace('.','')   # Retirando os pontos das casas decimais"
   ]
  },
  {
   "cell_type": "code",
   "execution_count": 12,
   "metadata": {},
   "outputs": [],
   "source": [
    "df['VALOR'] = df['VALOR'].str.replace(',','.')  # Depois substuindo a virgula pelo ponto"
   ]
  },
  {
   "cell_type": "code",
   "execution_count": 13,
   "metadata": {},
   "outputs": [],
   "source": [
    "df['VALOR'] = df['VALOR'].astype(float)  # convertendo em Float "
   ]
  },
  {
   "cell_type": "code",
   "execution_count": 14,
   "metadata": {},
   "outputs": [
    {
     "name": "stdout",
     "output_type": "stream",
     "text": [
      "<class 'pandas.core.frame.DataFrame'>\n",
      "RangeIndex: 2138 entries, 0 to 2137\n",
      "Data columns (total 5 columns):\n",
      " #   Column            Non-Null Count  Dtype  \n",
      "---  ------            --------------  -----  \n",
      " 0   CPF_BENEFICIARIO  2138 non-null   object \n",
      " 1   NIS_BENEFICIARIO  2138 non-null   object \n",
      " 2   BENEFICIARIO      2138 non-null   object \n",
      " 3   OBS               2138 non-null   object \n",
      " 4   VALOR             2138 non-null   float64\n",
      "dtypes: float64(1), object(4)\n",
      "memory usage: 83.6+ KB\n"
     ]
    }
   ],
   "source": [
    "df.info()    # verificar se deu certo a conversão"
   ]
  },
  {
   "cell_type": "code",
   "execution_count": 15,
   "metadata": {},
   "outputs": [
    {
     "data": {
      "text/plain": [
       "<AxesSubplot:>"
      ]
     },
     "execution_count": 15,
     "metadata": {},
     "output_type": "execute_result"
    },
    {
     "data": {
      "image/png": "[encoded data removed]",
      "text/plain": [
       "<Figure size 432x288 with 1 Axes>"
      ]
     },
     "metadata": {
      "needs_background": "light"
     },
     "output_type": "display_data"
    }
   ],
   "source": [
    "df.boxplot(column=['VALOR']) # Verificando outliers "
   ]
  },
  {
   "cell_type": "code",
   "execution_count": 16,
   "metadata": {},
   "outputs": [
    {
     "data": {
      "text/html": [
       "<div>\n",
       "<style scoped>\n",
       "    .dataframe tbody tr th:only-of-type {\n",
       "        vertical-align: middle;\n",
       "    }\n",
       "\n",
       "    .dataframe tbody tr th {\n",
       "        vertical-align: top;\n",
       "    }\n",
       "\n",
       "    .dataframe thead th {\n",
       "        text-align: right;\n",
       "    }\n",
       "</style>\n",
       "<table border=\"1\" class=\"dataframe\">\n",
       "  <thead>\n",
       "    <tr style=\"text-align: right;\">\n",
       "      <th></th>\n",
       "      <th>CPF_BENEFICIARIO</th>\n",
       "      <th>NIS_BENEFICIARIO</th>\n",
       "      <th>BENEFICIARIO</th>\n",
       "      <th>OBS</th>\n",
       "      <th>VALOR</th>\n",
       "    </tr>\n",
       "  </thead>\n",
       "  <tbody>\n",
       "    <tr>\n",
       "      <th>847</th>\n",
       "      <td>SEM CPF</td>\n",
       "      <td>NÃO INFORMADO</td>\n",
       "      <td>Inválido</td>\n",
       "      <td>Não há</td>\n",
       "      <td>116100.0</td>\n",
       "    </tr>\n",
       "  </tbody>\n",
       "</table>\n",
       "</div>"
      ],
      "text/plain": [
       "    CPF_BENEFICIARIO NIS_BENEFICIARIO BENEFICIARIO     OBS     VALOR\n",
       "847          SEM CPF    NÃO INFORMADO     Inválido  Não há  116100.0"
      ]
     },
     "execution_count": 16,
     "metadata": {},
     "output_type": "execute_result"
    }
   ],
   "source": [
    "df[df.VALOR>100000]   # filtrando outliers "
   ]
  },
  {
   "cell_type": "code",
   "execution_count": 17,
   "metadata": {},
   "outputs": [],
   "source": [
    "df = df.drop(847)   # removendo linha  outliers "
   ]
  },
  {
   "cell_type": "code",
   "execution_count": 18,
   "metadata": {},
   "outputs": [
    {
     "data": {
      "text/plain": [
       "<AxesSubplot:>"
      ]
     },
     "execution_count": 18,
     "metadata": {},
     "output_type": "execute_result"
    },
    {
     "data": {
      "image/png": "[encoded data removed]",
      "text/plain": [
       "<Figure size 432x288 with 1 Axes>"
      ]
     },
     "metadata": {
      "needs_background": "light"
     },
     "output_type": "display_data"
    }
   ],
   "source": [
    "df.boxplot(column=['VALOR'])  # boxplot novamente confirmando a saída do outliers"
   ]
  },
  {
   "cell_type": "markdown",
   "metadata": {},
   "source": [
    "# Cálculos"
   ]
  },
  {
   "cell_type": "code",
   "execution_count": 19,
   "metadata": {},
   "outputs": [
    {
     "data": {
      "text/plain": [
       "2137"
      ]
     },
     "execution_count": 19,
     "metadata": {},
     "output_type": "execute_result"
    }
   ],
   "source": [
    "df.CPF_BENEFICIARIO.count()   # Número de beneficiários  (02-2022)"
   ]
  },
  {
   "cell_type": "code",
   "execution_count": 20,
   "metadata": {},
   "outputs": [
    {
     "data": {
      "text/plain": [
       "5067777.0"
      ]
     },
     "execution_count": 20,
     "metadata": {},
     "output_type": "execute_result"
    }
   ],
   "source": [
    " df.VALOR.sum()   # Total Pago R$ 5.067.777,00 Bilhões de Reais  (02-2022)"
   ]
  },
  {
   "cell_type": "code",
   "execution_count": 21,
   "metadata": {},
   "outputs": [
    {
     "data": {
      "text/plain": [
       "2371.444548432382"
      ]
     },
     "execution_count": 21,
     "metadata": {},
     "output_type": "execute_result"
    }
   ],
   "source": [
    "df.VALOR.mean()  # Média Benecífio Pago  R$ 2.371.44 (02-2022)"
   ]
  },
  {
   "cell_type": "code",
   "execution_count": 22,
   "metadata": {},
   "outputs": [
    {
     "data": {
      "text/plain": [
       "8400.0"
      ]
     },
     "execution_count": 22,
     "metadata": {},
     "output_type": "execute_result"
    }
   ],
   "source": [
    "df.VALOR.max()  # Maior Valor Pago no Mês 02-2022 R$ 8.400,00"
   ]
  },
  {
   "cell_type": "code",
   "execution_count": 23,
   "metadata": {},
   "outputs": [
    {
     "data": {
      "text/plain": [
       "221.0"
      ]
     },
     "execution_count": 23,
     "metadata": {},
     "output_type": "execute_result"
    }
   ],
   "source": [
    "df.VALOR.min()  # Menor Valor Pago no Mês 02-2022 R$ 221,00"
   ]
  },
  {
   "cell_type": "code",
   "execution_count": 24,
   "metadata": {},
   "outputs": [
    {
     "data": {
      "text/plain": [
       "<AxesSubplot:>"
      ]
     },
     "execution_count": 24,
     "metadata": {},
     "output_type": "execute_result"
    },
    {
     "data": {
      "image/png": "[encoded data removed]",
      "text/plain": [
       "<Figure size 432x288 with 1 Axes>"
      ]
     },
     "metadata": {
      "needs_background": "light"
     },
     "output_type": "display_data"
    }
   ],
   "source": [
    "df.boxplot(column=['VALOR'])  # boxplot"
   ]
  },
  {
   "cell_type": "code",
   "execution_count": 33,
   "metadata": {},
   "outputs": [
    {
     "data": {
      "text/html": [
       "<div>\n",
       "<style scoped>\n",
       "    .dataframe tbody tr th:only-of-type {\n",
       "        vertical-align: middle;\n",
       "    }\n",
       "\n",
       "    .dataframe tbody tr th {\n",
       "        vertical-align: top;\n",
       "    }\n",
       "\n",
       "    .dataframe thead th {\n",
       "        text-align: right;\n",
       "    }\n",
       "</style>\n",
       "<table border=\"1\" class=\"dataframe\">\n",
       "  <thead>\n",
       "    <tr style=\"text-align: right;\">\n",
       "      <th></th>\n",
       "      <th>CPF_BENEFICIARIO</th>\n",
       "      <th>NIS_BENEFICIARIO</th>\n",
       "      <th>BENEFICIARIO</th>\n",
       "      <th>OBS</th>\n",
       "    </tr>\n",
       "    <tr>\n",
       "      <th>VALOR</th>\n",
       "      <th></th>\n",
       "      <th></th>\n",
       "      <th></th>\n",
       "      <th></th>\n",
       "    </tr>\n",
       "  </thead>\n",
       "  <tbody>\n",
       "    <tr>\n",
       "      <th>6000.0</th>\n",
       "      <td>22</td>\n",
       "      <td>22</td>\n",
       "      <td>22</td>\n",
       "      <td>22</td>\n",
       "    </tr>\n",
       "    <tr>\n",
       "      <th>6600.0</th>\n",
       "      <td>2</td>\n",
       "      <td>2</td>\n",
       "      <td>2</td>\n",
       "      <td>2</td>\n",
       "    </tr>\n",
       "    <tr>\n",
       "      <th>7200.0</th>\n",
       "      <td>15</td>\n",
       "      <td>15</td>\n",
       "      <td>15</td>\n",
       "      <td>15</td>\n",
       "    </tr>\n",
       "    <tr>\n",
       "      <th>7800.0</th>\n",
       "      <td>2</td>\n",
       "      <td>2</td>\n",
       "      <td>2</td>\n",
       "      <td>2</td>\n",
       "    </tr>\n",
       "    <tr>\n",
       "      <th>8400.0</th>\n",
       "      <td>16</td>\n",
       "      <td>16</td>\n",
       "      <td>16</td>\n",
       "      <td>16</td>\n",
       "    </tr>\n",
       "  </tbody>\n",
       "</table>\n",
       "</div>"
      ],
      "text/plain": [
       "        CPF_BENEFICIARIO  NIS_BENEFICIARIO  BENEFICIARIO  OBS\n",
       "VALOR                                                        \n",
       "6000.0                22                22            22   22\n",
       "6600.0                 2                 2             2    2\n",
       "7200.0                15                15            15   15\n",
       "7800.0                 2                 2             2    2\n",
       "8400.0                16                16            16   16"
      ]
     },
     "execution_count": 33,
     "metadata": {},
     "output_type": "execute_result"
    }
   ],
   "source": [
    "df.groupby('VALOR').count().tail()   # Contagem dos maiores valores "
   ]
  },
  {
   "cell_type": "markdown",
   "metadata": {},
   "source": [
    "# Desenvolvedor : Pedro Advincula da Silva Neto \n",
    "## Email: pedroasn@outlook.com\n",
    "## Linkedin: https://www.linkedin.com/in/pedro-advincula-da-silva-neto-201487104/"
   ]
  }
 ],
 "metadata": {
  "kernelspec": {
   "display_name": "Python 3",
   "language": "python",
   "name": "python3"
  },
  "language_info": {
   "codemirror_mode": {
    "name": "ipython",
    "version": 3
   },
   "file_extension": ".py",
   "mimetype": "text/x-python",
   "name": "python",
   "nbconvert_exporter": "python",
   "pygments_lexer": "ipython3",
   "version": "3.8.5"
  }
 },
 "nbformat": 4,
 "nbformat_minor": 4
}
